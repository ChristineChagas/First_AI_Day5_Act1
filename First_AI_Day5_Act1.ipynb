{
  "cells": [
    {
      "cell_type": "code",
      "source": [
        "!pip install openai==0.28.1\n",
        "!pip install fpdf==1.7.2"
      ],
      "metadata": {
        "id": "lataKYH3l-T1",
        "colab": {
          "base_uri": "https://localhost:8080/"
        },
        "outputId": "cbed2671-a423-4787-89ac-482e572efa48"
      },
      "id": "lataKYH3l-T1",
      "execution_count": 1,
      "outputs": [
        {
          "output_type": "stream",
          "name": "stdout",
          "text": [
            "Requirement already satisfied: openai==0.28.1 in /usr/local/lib/python3.10/dist-packages (0.28.1)\n",
            "Requirement already satisfied: requests>=2.20 in /usr/local/lib/python3.10/dist-packages (from openai==0.28.1) (2.32.3)\n",
            "Requirement already satisfied: tqdm in /usr/local/lib/python3.10/dist-packages (from openai==0.28.1) (4.66.6)\n",
            "Requirement already satisfied: aiohttp in /usr/local/lib/python3.10/dist-packages (from openai==0.28.1) (3.10.10)\n",
            "Requirement already satisfied: charset-normalizer<4,>=2 in /usr/local/lib/python3.10/dist-packages (from requests>=2.20->openai==0.28.1) (3.4.0)\n",
            "Requirement already satisfied: idna<4,>=2.5 in /usr/local/lib/python3.10/dist-packages (from requests>=2.20->openai==0.28.1) (3.10)\n",
            "Requirement already satisfied: urllib3<3,>=1.21.1 in /usr/local/lib/python3.10/dist-packages (from requests>=2.20->openai==0.28.1) (2.2.3)\n",
            "Requirement already satisfied: certifi>=2017.4.17 in /usr/local/lib/python3.10/dist-packages (from requests>=2.20->openai==0.28.1) (2024.8.30)\n",
            "Requirement already satisfied: aiohappyeyeballs>=2.3.0 in /usr/local/lib/python3.10/dist-packages (from aiohttp->openai==0.28.1) (2.4.3)\n",
            "Requirement already satisfied: aiosignal>=1.1.2 in /usr/local/lib/python3.10/dist-packages (from aiohttp->openai==0.28.1) (1.3.1)\n",
            "Requirement already satisfied: attrs>=17.3.0 in /usr/local/lib/python3.10/dist-packages (from aiohttp->openai==0.28.1) (24.2.0)\n",
            "Requirement already satisfied: frozenlist>=1.1.1 in /usr/local/lib/python3.10/dist-packages (from aiohttp->openai==0.28.1) (1.5.0)\n",
            "Requirement already satisfied: multidict<7.0,>=4.5 in /usr/local/lib/python3.10/dist-packages (from aiohttp->openai==0.28.1) (6.1.0)\n",
            "Requirement already satisfied: yarl<2.0,>=1.12.0 in /usr/local/lib/python3.10/dist-packages (from aiohttp->openai==0.28.1) (1.17.1)\n",
            "Requirement already satisfied: async-timeout<5.0,>=4.0 in /usr/local/lib/python3.10/dist-packages (from aiohttp->openai==0.28.1) (4.0.3)\n",
            "Requirement already satisfied: typing-extensions>=4.1.0 in /usr/local/lib/python3.10/dist-packages (from multidict<7.0,>=4.5->aiohttp->openai==0.28.1) (4.12.2)\n",
            "Requirement already satisfied: propcache>=0.2.0 in /usr/local/lib/python3.10/dist-packages (from yarl<2.0,>=1.12.0->aiohttp->openai==0.28.1) (0.2.0)\n",
            "Requirement already satisfied: fpdf==1.7.2 in /usr/local/lib/python3.10/dist-packages (1.7.2)\n"
          ]
        }
      ]
    },
    {
      "cell_type": "code",
      "execution_count": 2,
      "id": "48ef5895-994b-4287-be64-6bfc2d5cea03",
      "metadata": {
        "id": "48ef5895-994b-4287-be64-6bfc2d5cea03"
      },
      "outputs": [],
      "source": [
        "import pandas as pd\n",
        "import openai\n",
        "import time\n",
        "from fpdf import FPDF\n",
        "\n",
        "openai.api_key = 'OPEN API KEY HERE'"
      ]
    },
    {
      "cell_type": "markdown",
      "source": [
        "## Load the dataset"
      ],
      "metadata": {
        "id": "71nyWCPo9mui"
      },
      "id": "71nyWCPo9mui"
    },
    {
      "cell_type": "code",
      "source": [
        "df = pd.read_excel('https://raw.githubusercontent.com/ChristineChagas/First_AI_Day4_Act1/main/SupplyChainX_Parcel_Data.xlsx')"
      ],
      "metadata": {
        "id": "iNEtAbnJma2J"
      },
      "id": "iNEtAbnJma2J",
      "execution_count": 3,
      "outputs": []
    },
    {
      "cell_type": "code",
      "source": [
        "df.sample(5)"
      ],
      "metadata": {
        "id": "Ye6HoobRmc2k",
        "colab": {
          "base_uri": "https://localhost:8080/",
          "height": 360
        },
        "outputId": "64247fe6-d8b4-40d8-9211-40a36c44a756"
      },
      "id": "Ye6HoobRmc2k",
      "execution_count": 5,
      "outputs": [
        {
          "output_type": "execute_result",
          "data": {
            "text/plain": [
              "    Parcel_ID  Weight (kg)  Length (cm)  Width (cm)  Height (cm)  \\\n",
              "4           5           10           20          15           12   \n",
              "0           1           12           30          20           25   \n",
              "6           7           15           35          25           30   \n",
              "12         13            7           40          28           35   \n",
              "13         14           14           32          20           25   \n",
              "\n",
              "   Shipping_Type Parcel_Type Contents_Description  Declared_Value (PHP)  \\\n",
              "4       Standard    Envelope            Documents                  3000   \n",
              "0       Standard         Box            Furniture                 15000   \n",
              "6        Express         Box                Books                  8000   \n",
              "12      Standard         Box              Jewelry                 25000   \n",
              "13      Standard         Box                 Food                 15000   \n",
              "\n",
              "   Packaging_Type  ... Duties_Taxes_Paid Country_of_Origin  \\\n",
              "4         Polybag  ...                50       Philippines   \n",
              "0       Cardboard  ...                50       Philippines   \n",
              "6      Wooden Box  ...                20       Philippines   \n",
              "12      Cardboard  ...               150       Philippines   \n",
              "13     Wooden Box  ...               100       Philippines   \n",
              "\n",
              "   Special_Handling_Instructions Insurance_Status Weather_Condition  \\\n",
              "4                       Keep dry          Insured            Cloudy   \n",
              "0               Handle with care          Insured             Rainy   \n",
              "6               Handle carefully          Insured             Clear   \n",
              "12   Fragile, keep in cool place          Insured             Sunny   \n",
              "13             Fragile, keep dry      Not Insured            Cloudy   \n",
              "\n",
              "   Traffic_Condition                          Packaging_Recommendations  \\\n",
              "4              Light       Use eco-friendly packaging, light protection   \n",
              "0           Moderate  Use waterproof packaging, reinforce box for he...   \n",
              "6           Moderate     Ensure proper sealing and waterproof packaging   \n",
              "12               Low         Use protective packaging for fragile items   \n",
              "13          Moderate         Use protective packaging for fragile items   \n",
              "\n",
              "   Delivery_Priority Return_Status Return_Reason  \n",
              "4                Low            No           NaN  \n",
              "0               High            No           NaN  \n",
              "6             Medium            No           NaN  \n",
              "12            Medium            No           NaN  \n",
              "13              High            No           NaN  \n",
              "\n",
              "[5 rows x 41 columns]"
            ],
            "text/html": [
              "\n",
              "  <div id=\"df-52e28bd3-80a8-482d-be7c-9e4d9cc0e4e2\" class=\"colab-df-container\">\n",
              "    <div>\n",
              "<style scoped>\n",
              "    .dataframe tbody tr th:only-of-type {\n",
              "        vertical-align: middle;\n",
              "    }\n",
              "\n",
              "    .dataframe tbody tr th {\n",
              "        vertical-align: top;\n",
              "    }\n",
              "\n",
              "    .dataframe thead th {\n",
              "        text-align: right;\n",
              "    }\n",
              "</style>\n",
              "<table border=\"1\" class=\"dataframe\">\n",
              "  <thead>\n",
              "    <tr style=\"text-align: right;\">\n",
              "      <th></th>\n",
              "      <th>Parcel_ID</th>\n",
              "      <th>Weight (kg)</th>\n",
              "      <th>Length (cm)</th>\n",
              "      <th>Width (cm)</th>\n",
              "      <th>Height (cm)</th>\n",
              "      <th>Shipping_Type</th>\n",
              "      <th>Parcel_Type</th>\n",
              "      <th>Contents_Description</th>\n",
              "      <th>Declared_Value (PHP)</th>\n",
              "      <th>Packaging_Type</th>\n",
              "      <th>...</th>\n",
              "      <th>Duties_Taxes_Paid</th>\n",
              "      <th>Country_of_Origin</th>\n",
              "      <th>Special_Handling_Instructions</th>\n",
              "      <th>Insurance_Status</th>\n",
              "      <th>Weather_Condition</th>\n",
              "      <th>Traffic_Condition</th>\n",
              "      <th>Packaging_Recommendations</th>\n",
              "      <th>Delivery_Priority</th>\n",
              "      <th>Return_Status</th>\n",
              "      <th>Return_Reason</th>\n",
              "    </tr>\n",
              "  </thead>\n",
              "  <tbody>\n",
              "    <tr>\n",
              "      <th>4</th>\n",
              "      <td>5</td>\n",
              "      <td>10</td>\n",
              "      <td>20</td>\n",
              "      <td>15</td>\n",
              "      <td>12</td>\n",
              "      <td>Standard</td>\n",
              "      <td>Envelope</td>\n",
              "      <td>Documents</td>\n",
              "      <td>3000</td>\n",
              "      <td>Polybag</td>\n",
              "      <td>...</td>\n",
              "      <td>50</td>\n",
              "      <td>Philippines</td>\n",
              "      <td>Keep dry</td>\n",
              "      <td>Insured</td>\n",
              "      <td>Cloudy</td>\n",
              "      <td>Light</td>\n",
              "      <td>Use eco-friendly packaging, light protection</td>\n",
              "      <td>Low</td>\n",
              "      <td>No</td>\n",
              "      <td>NaN</td>\n",
              "    </tr>\n",
              "    <tr>\n",
              "      <th>0</th>\n",
              "      <td>1</td>\n",
              "      <td>12</td>\n",
              "      <td>30</td>\n",
              "      <td>20</td>\n",
              "      <td>25</td>\n",
              "      <td>Standard</td>\n",
              "      <td>Box</td>\n",
              "      <td>Furniture</td>\n",
              "      <td>15000</td>\n",
              "      <td>Cardboard</td>\n",
              "      <td>...</td>\n",
              "      <td>50</td>\n",
              "      <td>Philippines</td>\n",
              "      <td>Handle with care</td>\n",
              "      <td>Insured</td>\n",
              "      <td>Rainy</td>\n",
              "      <td>Moderate</td>\n",
              "      <td>Use waterproof packaging, reinforce box for he...</td>\n",
              "      <td>High</td>\n",
              "      <td>No</td>\n",
              "      <td>NaN</td>\n",
              "    </tr>\n",
              "    <tr>\n",
              "      <th>6</th>\n",
              "      <td>7</td>\n",
              "      <td>15</td>\n",
              "      <td>35</td>\n",
              "      <td>25</td>\n",
              "      <td>30</td>\n",
              "      <td>Express</td>\n",
              "      <td>Box</td>\n",
              "      <td>Books</td>\n",
              "      <td>8000</td>\n",
              "      <td>Wooden Box</td>\n",
              "      <td>...</td>\n",
              "      <td>20</td>\n",
              "      <td>Philippines</td>\n",
              "      <td>Handle carefully</td>\n",
              "      <td>Insured</td>\n",
              "      <td>Clear</td>\n",
              "      <td>Moderate</td>\n",
              "      <td>Ensure proper sealing and waterproof packaging</td>\n",
              "      <td>Medium</td>\n",
              "      <td>No</td>\n",
              "      <td>NaN</td>\n",
              "    </tr>\n",
              "    <tr>\n",
              "      <th>12</th>\n",
              "      <td>13</td>\n",
              "      <td>7</td>\n",
              "      <td>40</td>\n",
              "      <td>28</td>\n",
              "      <td>35</td>\n",
              "      <td>Standard</td>\n",
              "      <td>Box</td>\n",
              "      <td>Jewelry</td>\n",
              "      <td>25000</td>\n",
              "      <td>Cardboard</td>\n",
              "      <td>...</td>\n",
              "      <td>150</td>\n",
              "      <td>Philippines</td>\n",
              "      <td>Fragile, keep in cool place</td>\n",
              "      <td>Insured</td>\n",
              "      <td>Sunny</td>\n",
              "      <td>Low</td>\n",
              "      <td>Use protective packaging for fragile items</td>\n",
              "      <td>Medium</td>\n",
              "      <td>No</td>\n",
              "      <td>NaN</td>\n",
              "    </tr>\n",
              "    <tr>\n",
              "      <th>13</th>\n",
              "      <td>14</td>\n",
              "      <td>14</td>\n",
              "      <td>32</td>\n",
              "      <td>20</td>\n",
              "      <td>25</td>\n",
              "      <td>Standard</td>\n",
              "      <td>Box</td>\n",
              "      <td>Food</td>\n",
              "      <td>15000</td>\n",
              "      <td>Wooden Box</td>\n",
              "      <td>...</td>\n",
              "      <td>100</td>\n",
              "      <td>Philippines</td>\n",
              "      <td>Fragile, keep dry</td>\n",
              "      <td>Not Insured</td>\n",
              "      <td>Cloudy</td>\n",
              "      <td>Moderate</td>\n",
              "      <td>Use protective packaging for fragile items</td>\n",
              "      <td>High</td>\n",
              "      <td>No</td>\n",
              "      <td>NaN</td>\n",
              "    </tr>\n",
              "  </tbody>\n",
              "</table>\n",
              "<p>5 rows × 41 columns</p>\n",
              "</div>\n",
              "    <div class=\"colab-df-buttons\">\n",
              "\n",
              "  <div class=\"colab-df-container\">\n",
              "    <button class=\"colab-df-convert\" onclick=\"convertToInteractive('df-52e28bd3-80a8-482d-be7c-9e4d9cc0e4e2')\"\n",
              "            title=\"Convert this dataframe to an interactive table.\"\n",
              "            style=\"display:none;\">\n",
              "\n",
              "  <svg xmlns=\"http://www.w3.org/2000/svg\" height=\"24px\" viewBox=\"0 -960 960 960\">\n",
              "    <path d=\"M120-120v-720h720v720H120Zm60-500h600v-160H180v160Zm220 220h160v-160H400v160Zm0 220h160v-160H400v160ZM180-400h160v-160H180v160Zm440 0h160v-160H620v160ZM180-180h160v-160H180v160Zm440 0h160v-160H620v160Z\"/>\n",
              "  </svg>\n",
              "    </button>\n",
              "\n",
              "  <style>\n",
              "    .colab-df-container {\n",
              "      display:flex;\n",
              "      gap: 12px;\n",
              "    }\n",
              "\n",
              "    .colab-df-convert {\n",
              "      background-color: #E8F0FE;\n",
              "      border: none;\n",
              "      border-radius: 50%;\n",
              "      cursor: pointer;\n",
              "      display: none;\n",
              "      fill: #1967D2;\n",
              "      height: 32px;\n",
              "      padding: 0 0 0 0;\n",
              "      width: 32px;\n",
              "    }\n",
              "\n",
              "    .colab-df-convert:hover {\n",
              "      background-color: #E2EBFA;\n",
              "      box-shadow: 0px 1px 2px rgba(60, 64, 67, 0.3), 0px 1px 3px 1px rgba(60, 64, 67, 0.15);\n",
              "      fill: #174EA6;\n",
              "    }\n",
              "\n",
              "    .colab-df-buttons div {\n",
              "      margin-bottom: 4px;\n",
              "    }\n",
              "\n",
              "    [theme=dark] .colab-df-convert {\n",
              "      background-color: #3B4455;\n",
              "      fill: #D2E3FC;\n",
              "    }\n",
              "\n",
              "    [theme=dark] .colab-df-convert:hover {\n",
              "      background-color: #434B5C;\n",
              "      box-shadow: 0px 1px 3px 1px rgba(0, 0, 0, 0.15);\n",
              "      filter: drop-shadow(0px 1px 2px rgba(0, 0, 0, 0.3));\n",
              "      fill: #FFFFFF;\n",
              "    }\n",
              "  </style>\n",
              "\n",
              "    <script>\n",
              "      const buttonEl =\n",
              "        document.querySelector('#df-52e28bd3-80a8-482d-be7c-9e4d9cc0e4e2 button.colab-df-convert');\n",
              "      buttonEl.style.display =\n",
              "        google.colab.kernel.accessAllowed ? 'block' : 'none';\n",
              "\n",
              "      async function convertToInteractive(key) {\n",
              "        const element = document.querySelector('#df-52e28bd3-80a8-482d-be7c-9e4d9cc0e4e2');\n",
              "        const dataTable =\n",
              "          await google.colab.kernel.invokeFunction('convertToInteractive',\n",
              "                                                    [key], {});\n",
              "        if (!dataTable) return;\n",
              "\n",
              "        const docLinkHtml = 'Like what you see? Visit the ' +\n",
              "          '<a target=\"_blank\" href=https://colab.research.google.com/notebooks/data_table.ipynb>data table notebook</a>'\n",
              "          + ' to learn more about interactive tables.';\n",
              "        element.innerHTML = '';\n",
              "        dataTable['output_type'] = 'display_data';\n",
              "        await google.colab.output.renderOutput(dataTable, element);\n",
              "        const docLink = document.createElement('div');\n",
              "        docLink.innerHTML = docLinkHtml;\n",
              "        element.appendChild(docLink);\n",
              "      }\n",
              "    </script>\n",
              "  </div>\n",
              "\n",
              "\n",
              "<div id=\"df-851c7edc-ab05-4c5d-aa91-10253a84a493\">\n",
              "  <button class=\"colab-df-quickchart\" onclick=\"quickchart('df-851c7edc-ab05-4c5d-aa91-10253a84a493')\"\n",
              "            title=\"Suggest charts\"\n",
              "            style=\"display:none;\">\n",
              "\n",
              "<svg xmlns=\"http://www.w3.org/2000/svg\" height=\"24px\"viewBox=\"0 0 24 24\"\n",
              "     width=\"24px\">\n",
              "    <g>\n",
              "        <path d=\"M19 3H5c-1.1 0-2 .9-2 2v14c0 1.1.9 2 2 2h14c1.1 0 2-.9 2-2V5c0-1.1-.9-2-2-2zM9 17H7v-7h2v7zm4 0h-2V7h2v10zm4 0h-2v-4h2v4z\"/>\n",
              "    </g>\n",
              "</svg>\n",
              "  </button>\n",
              "\n",
              "<style>\n",
              "  .colab-df-quickchart {\n",
              "      --bg-color: #E8F0FE;\n",
              "      --fill-color: #1967D2;\n",
              "      --hover-bg-color: #E2EBFA;\n",
              "      --hover-fill-color: #174EA6;\n",
              "      --disabled-fill-color: #AAA;\n",
              "      --disabled-bg-color: #DDD;\n",
              "  }\n",
              "\n",
              "  [theme=dark] .colab-df-quickchart {\n",
              "      --bg-color: #3B4455;\n",
              "      --fill-color: #D2E3FC;\n",
              "      --hover-bg-color: #434B5C;\n",
              "      --hover-fill-color: #FFFFFF;\n",
              "      --disabled-bg-color: #3B4455;\n",
              "      --disabled-fill-color: #666;\n",
              "  }\n",
              "\n",
              "  .colab-df-quickchart {\n",
              "    background-color: var(--bg-color);\n",
              "    border: none;\n",
              "    border-radius: 50%;\n",
              "    cursor: pointer;\n",
              "    display: none;\n",
              "    fill: var(--fill-color);\n",
              "    height: 32px;\n",
              "    padding: 0;\n",
              "    width: 32px;\n",
              "  }\n",
              "\n",
              "  .colab-df-quickchart:hover {\n",
              "    background-color: var(--hover-bg-color);\n",
              "    box-shadow: 0 1px 2px rgba(60, 64, 67, 0.3), 0 1px 3px 1px rgba(60, 64, 67, 0.15);\n",
              "    fill: var(--button-hover-fill-color);\n",
              "  }\n",
              "\n",
              "  .colab-df-quickchart-complete:disabled,\n",
              "  .colab-df-quickchart-complete:disabled:hover {\n",
              "    background-color: var(--disabled-bg-color);\n",
              "    fill: var(--disabled-fill-color);\n",
              "    box-shadow: none;\n",
              "  }\n",
              "\n",
              "  .colab-df-spinner {\n",
              "    border: 2px solid var(--fill-color);\n",
              "    border-color: transparent;\n",
              "    border-bottom-color: var(--fill-color);\n",
              "    animation:\n",
              "      spin 1s steps(1) infinite;\n",
              "  }\n",
              "\n",
              "  @keyframes spin {\n",
              "    0% {\n",
              "      border-color: transparent;\n",
              "      border-bottom-color: var(--fill-color);\n",
              "      border-left-color: var(--fill-color);\n",
              "    }\n",
              "    20% {\n",
              "      border-color: transparent;\n",
              "      border-left-color: var(--fill-color);\n",
              "      border-top-color: var(--fill-color);\n",
              "    }\n",
              "    30% {\n",
              "      border-color: transparent;\n",
              "      border-left-color: var(--fill-color);\n",
              "      border-top-color: var(--fill-color);\n",
              "      border-right-color: var(--fill-color);\n",
              "    }\n",
              "    40% {\n",
              "      border-color: transparent;\n",
              "      border-right-color: var(--fill-color);\n",
              "      border-top-color: var(--fill-color);\n",
              "    }\n",
              "    60% {\n",
              "      border-color: transparent;\n",
              "      border-right-color: var(--fill-color);\n",
              "    }\n",
              "    80% {\n",
              "      border-color: transparent;\n",
              "      border-right-color: var(--fill-color);\n",
              "      border-bottom-color: var(--fill-color);\n",
              "    }\n",
              "    90% {\n",
              "      border-color: transparent;\n",
              "      border-bottom-color: var(--fill-color);\n",
              "    }\n",
              "  }\n",
              "</style>\n",
              "\n",
              "  <script>\n",
              "    async function quickchart(key) {\n",
              "      const quickchartButtonEl =\n",
              "        document.querySelector('#' + key + ' button');\n",
              "      quickchartButtonEl.disabled = true;  // To prevent multiple clicks.\n",
              "      quickchartButtonEl.classList.add('colab-df-spinner');\n",
              "      try {\n",
              "        const charts = await google.colab.kernel.invokeFunction(\n",
              "            'suggestCharts', [key], {});\n",
              "      } catch (error) {\n",
              "        console.error('Error during call to suggestCharts:', error);\n",
              "      }\n",
              "      quickchartButtonEl.classList.remove('colab-df-spinner');\n",
              "      quickchartButtonEl.classList.add('colab-df-quickchart-complete');\n",
              "    }\n",
              "    (() => {\n",
              "      let quickchartButtonEl =\n",
              "        document.querySelector('#df-851c7edc-ab05-4c5d-aa91-10253a84a493 button');\n",
              "      quickchartButtonEl.style.display =\n",
              "        google.colab.kernel.accessAllowed ? 'block' : 'none';\n",
              "    })();\n",
              "  </script>\n",
              "</div>\n",
              "\n",
              "    </div>\n",
              "  </div>\n"
            ],
            "application/vnd.google.colaboratory.intrinsic+json": {
              "type": "dataframe"
            }
          },
          "metadata": {},
          "execution_count": 5
        }
      ]
    },
    {
      "cell_type": "markdown",
      "source": [
        "## Understanding the Dataset"
      ],
      "metadata": {
        "id": "QusTNnFu92Jx"
      },
      "id": "QusTNnFu92Jx"
    },
    {
      "cell_type": "code",
      "source": [
        "# Get Column Names and Data Types\n",
        "column_info = df.dtypes\n",
        "print(column_info,\"\\n\")\n"
      ],
      "metadata": {
        "id": "xTpEc-cd8-_l",
        "colab": {
          "base_uri": "https://localhost:8080/"
        },
        "outputId": "5fd21c2d-8511-4952-db27-56f168cd7a34"
      },
      "id": "xTpEc-cd8-_l",
      "execution_count": 7,
      "outputs": [
        {
          "output_type": "stream",
          "name": "stdout",
          "text": [
            "Parcel_ID                          int64\n",
            "Weight (kg)                        int64\n",
            "Length (cm)                        int64\n",
            "Width (cm)                         int64\n",
            "Height (cm)                        int64\n",
            "Shipping_Type                     object\n",
            "Parcel_Type                       object\n",
            "Contents_Description              object\n",
            "Declared_Value (PHP)               int64\n",
            "Packaging_Type                    object\n",
            "Sender_Name                       object\n",
            "Sender_Address                    object\n",
            "Sender_Contact                    object\n",
            "Sender_Email                      object\n",
            "Receiver_Name                     object\n",
            "Receiver_Address                  object\n",
            "Receiver_Contact                  object\n",
            "Receiver_Email                    object\n",
            "Tracking_Number                   object\n",
            "Pickup_Date_Time                  object\n",
            "Estimated_Delivery_Date           object\n",
            "Actual_Delivery_Date              object\n",
            "Delivery_Status                   object\n",
            "Current_Location                  object\n",
            "Delivery_Method                   object\n",
            "Proof_of_Delivery                 object\n",
            "Shipping_Carrier                  object\n",
            "Shipping_Cost (PHP)                int64\n",
            "Shipping_Method                   object\n",
            "Tracking_URL                      object\n",
            "Customs_Declaration               object\n",
            "Duties_Taxes_Paid                  int64\n",
            "Country_of_Origin                 object\n",
            "Special_Handling_Instructions     object\n",
            "Insurance_Status                  object\n",
            "Weather_Condition                 object\n",
            "Traffic_Condition                 object\n",
            "Packaging_Recommendations         object\n",
            "Delivery_Priority                 object\n",
            "Return_Status                     object\n",
            "Return_Reason                    float64\n",
            "dtype: object \n",
            "\n"
          ]
        }
      ]
    },
    {
      "cell_type": "code",
      "source": [
        "# Identify Categorical and Numerical Features\n",
        "\n",
        "categorical_features = df.select_dtypes(include=['object']).columns\n",
        "numerical_features = df.select_dtypes(include=['int64', 'float64']).columns\n",
        "\n",
        "print(\"Categorical Features:\", categorical_features)\n",
        "print(\"Numerical Features:\", numerical_features)\n"
      ],
      "metadata": {
        "id": "0TYP9kiM-E0W",
        "colab": {
          "base_uri": "https://localhost:8080/"
        },
        "outputId": "13496068-357a-40e4-c165-bbe5ac0383e3"
      },
      "id": "0TYP9kiM-E0W",
      "execution_count": 8,
      "outputs": [
        {
          "output_type": "stream",
          "name": "stdout",
          "text": [
            "Categorical Features: Index(['Shipping_Type', 'Parcel_Type', 'Contents_Description',\n",
            "       'Packaging_Type', 'Sender_Name', 'Sender_Address', 'Sender_Contact',\n",
            "       'Sender_Email', 'Receiver_Name', 'Receiver_Address', 'Receiver_Contact',\n",
            "       'Receiver_Email', 'Tracking_Number', 'Pickup_Date_Time',\n",
            "       'Estimated_Delivery_Date', 'Actual_Delivery_Date', 'Delivery_Status',\n",
            "       'Current_Location', 'Delivery_Method', 'Proof_of_Delivery',\n",
            "       'Shipping_Carrier', 'Shipping_Method', 'Tracking_URL',\n",
            "       'Customs_Declaration', 'Country_of_Origin',\n",
            "       'Special_Handling_Instructions', 'Insurance_Status',\n",
            "       'Weather_Condition', 'Traffic_Condition', 'Packaging_Recommendations',\n",
            "       'Delivery_Priority', 'Return_Status'],\n",
            "      dtype='object')\n",
            "Numerical Features: Index(['Parcel_ID', 'Weight (kg)', 'Length (cm)', 'Width (cm)', 'Height (cm)',\n",
            "       'Declared_Value (PHP)', 'Shipping_Cost (PHP)', 'Duties_Taxes_Paid',\n",
            "       'Return_Reason'],\n",
            "      dtype='object')\n"
          ]
        }
      ]
    },
    {
      "cell_type": "code",
      "execution_count": 11,
      "id": "422cc4d7-966b-4ea8-b991-df4a21f8ac64",
      "metadata": {
        "id": "422cc4d7-966b-4ea8-b991-df4a21f8ac64",
        "colab": {
          "base_uri": "https://localhost:8080/"
        },
        "outputId": "3f5e4d39-093a-458c-e3de-87d761bfff64"
      },
      "outputs": [
        {
          "output_type": "stream",
          "name": "stdout",
          "text": [
            "Unique Values for Categorical Features:\n",
            " - Shipping_Type: ['Standard', 'Express']\n",
            " - Parcel_Type: ['Box', 'Envelope']\n",
            " - Contents_Description: ['Furniture', 'Documents', 'Electronics', 'Medical Supplies', 'Apparel', 'Books', 'Clothing', 'Toys', 'Fragile Items', 'Health Products', '...']\n",
            " - Packaging_Type: ['Cardboard', 'Polybag', 'Wooden Box', 'Plastic', 'Glass']\n",
            " - Sender_Name: ['Juan Dela Cruz', 'Ana Dela Cruz', 'Mario Lopez', 'Pedro Martinez', 'Maria Lopez', 'Jose Torres', 'Liza Garcia', 'Carlos Rivera', 'Rita Cruz', 'Paul Martinez', '...']\n",
            " - Sender_Address: ['123 Rizal St, Makati', '789 Aurora Blvd, QC', '456 Mango St, Cebu', '789 Bay St, Taguig', '123 Bonifacio St, QC', '456 Green St, Manila', '12 Main St, Pasig', '85 Rizal Ave, Cebu', '23 Quezon Ave, Makati', '15 Rosario St, Pasay', '...']\n",
            " - Sender_Contact: ['+63 917 123 4567', '+63 917 234 5678', '+63 917 567 8901', '+63 917 345 6789', '+63 919 234 5678', '+63 918 234 5678', '+63 919 345 6789', '+63 920 567 8901', '+63 920 345 6789', '+63 920 234 5678']\n",
            " - Sender_Email: ['juandelacruz@email.com', 'anadelacruz@email.com', 'mariolopez@email.com', 'pedromartinez@email.com', 'marialopez@email.com', 'josetorres@email.com', 'lizagarcia@email.com', 'carlosrivera@email.com', 'ritacruz@email.com', 'paulmartinez@email.com', '...']\n",
            " - Receiver_Name: ['Maria Santos', 'Pedro Mendoza', 'Luisa Reyes', 'Jenny Smith', 'John Cruz', 'Beatriz Lopez', 'Raul Rivera', 'Anna Cruz', 'Sofia Garcia', 'Leo Reyes', '...']\n",
            " - Receiver_Address: ['456 Quezon Ave, Manila', '123 Central Ave, Davao', '123 Ocean St, Davao', '234 Lake St, Cebu', '456 Commonwealth Ave, Manila', '789 Yellow St, Cebu', '50 Green St, QC', '22 Magallanes St, Makati', '45 Lopez Ave, Davao', '55 Quezon St, QC', '...']\n",
            " - Receiver_Contact: ['+63 918 234 5678', '+63 919 345 6789', '+63 916 345 6789', '+63 920 345 6789', '+63 917 234 5678', '+63 917 345 6789', '+63 919 234 5678', '+63 917 567 8901', '+63 920 234 5678']\n",
            " - Receiver_Email: ['mariasantos@email.com', 'pedromendoza@email.com', 'luisareyes@email.com', 'jennysmith@email.com', 'johncruz@email.com', 'beatrizlopez@email.com', 'raulrivera@email.com', 'annacruz@email.com', 'sofiagarcia@email.com', 'leoreyes@email.com', '...']\n",
            " - Tracking_Number: ['TRACK123456', 'TRACK654321', 'TRACK789012', 'TRACK321098', 'TRACK654987', 'TRACK234567', 'TRACK890123', 'TRACK112233', 'TRACK445566', 'TRACK778899', '...']\n",
            " - Pickup_Date_Time: ['2024-11-01 09:00', '2024-11-02 11:30', '2024-11-03 13:00', '2024-11-04 10:00', '2024-11-05 14:30', '2024-11-06 08:00', '2024-11-07 09:00', '2024-11-08 10:00', '2024-11-09 15:00', '2024-11-10 12:00', '...']\n",
            " - Estimated_Delivery_Date: ['2024-11-05', '2024-11-06', '2024-11-07', '2024-11-08', '2024-11-09', '2024-11-10', '2024-11-11', '2024-11-12', '2024-11-13', '2024-11-14', '...']\n",
            " - Actual_Delivery_Date: ['2024-11-04', '2024-11-05', '2024-11-06', '2024-11-07', '2024-11-08', '2024-11-09', '2024-11-10', '2024-11-11', '2024-11-12', '2024-11-13', '...']\n",
            " - Delivery_Status: ['Delivered']\n",
            " - Current_Location: ['Makati', 'Quezon City', 'Cebu', 'Taguig', 'Manila', 'Pasig', 'Pasay', 'Binondo', 'Davao', 'Cavite', '...']\n",
            " - Delivery_Method: ['Air', 'Ground']\n",
            " - Proof_of_Delivery: ['Yes']\n",
            " - Shipping_Carrier: ['J&T Express', 'LBC Express', '2GO Express', 'FedEx Express', 'FedEx']\n",
            " - Shipping_Method: ['Ground', 'Air', 'Sea']\n",
            " - Tracking_URL: ['https://tracking.url/123456', 'https://tracking.url/654321', 'https://tracking.url/789012', 'https://tracking.url/321098', 'https://tracking.url/654987', 'https://tracking.url/234567', 'https://tracking.url/890123', 'https://tracking.url/112233', 'https://tracking.url/445566', 'https://tracking.url/778899', '...']\n",
            " - Customs_Declaration: ['CDN987654', 'CDN123456', 'CDN223344', 'CDN556677', 'CDN778899', 'CDN234567', 'CDN667788', 'CDN998877', 'CDN112233']\n",
            " - Country_of_Origin: ['Philippines', 'Japan', 'USA', 'China', 'Thailand']\n",
            " - Special_Handling_Instructions: ['Handle with care', 'Fragile, Keep upright', 'Handle with care, Keep dry', 'Keep dry', 'Fragile, Do not bend', 'Handle carefully', 'Keep flat', 'Avoid heavy handling', 'Keep upright', 'Keep cool', '...']\n",
            " - Insurance_Status: ['Insured', 'Not Insured']\n",
            " - Weather_Condition: ['Rainy', 'Clear', 'Humid', 'Sunny', 'Cloudy', 'Stormy']\n",
            " - Traffic_Condition: ['Moderate', 'Light', 'Heavy Traffic', 'Low']\n",
            " - Packaging_Recommendations: ['Use waterproof packaging, reinforce box for heavy rain', 'Use lightweight packaging, prioritize fast delivery', 'Reinforce packaging, optimize delivery route', 'Ensure box integrity, use sturdy packaging', 'Use eco-friendly packaging, light protection', 'Reinforce packaging for rain and traffic delays', 'Ensure proper sealing and waterproof packaging', 'Use light but durable packaging', 'Use temperature-resistant packaging', 'Reinforce packaging to prevent deformation', '...']\n",
            " - Delivery_Priority: ['High', 'Medium', 'Low']\n",
            " - Return_Status: ['No']\n",
            "\n"
          ]
        }
      ],
      "source": [
        "# Get Unique Values for Categorical Features with Limitation\n",
        "\n",
        "def get_unique_values(col, max_display=10):\n",
        "    uniques = df[col].unique().tolist() # get unique values and turn them into lists\n",
        "    if len(uniques) > max_display: # if there are more than 'max_display' unique values\n",
        "        return uniques[:max_display] + [\"...\"]\n",
        "    return uniques\n",
        "unique_values = {col: get_unique_values(col) for col in categorical_features}\n",
        "\n",
        "print(\"Unique Values for Categorical Features:\")\n",
        "for col, values in unique_values.items():\n",
        "    print(f\" - {col}: {values}\")\n",
        "print()\n"
      ]
    },
    {
      "cell_type": "code",
      "source": [
        "# Get Descriptive Statistics for Numerical Features\n",
        "\n",
        "\n",
        "numerical_stats = df[numerical_features].describe()\n",
        "print(\"Descriptive Statistics for Numerical Features:\\n\", numerical_stats, \"\\n\")"
      ],
      "metadata": {
        "id": "CbfloRag9Kup",
        "colab": {
          "base_uri": "https://localhost:8080/"
        },
        "outputId": "e85856c0-45b7-4aa0-b566-62594a7d2b12"
      },
      "id": "CbfloRag9Kup",
      "execution_count": 12,
      "outputs": [
        {
          "output_type": "stream",
          "name": "stdout",
          "text": [
            "Descriptive Statistics for Numerical Features:\n",
            "        Parcel_ID  Weight (kg)  Length (cm)  Width (cm)  Height (cm)  \\\n",
            "count   20.00000     20.00000    20.000000   20.000000    20.000000   \n",
            "mean    10.50000     11.00000    29.050000   20.850000    24.750000   \n",
            "std      5.91608      6.30789    12.028366    9.884997    14.410796   \n",
            "min      1.00000      3.00000    10.000000    8.000000     8.000000   \n",
            "25%      5.75000      6.00000    20.000000   14.750000    14.000000   \n",
            "50%     10.50000     10.00000    30.000000   18.000000    20.000000   \n",
            "75%     15.25000     14.25000    36.250000   28.000000    31.250000   \n",
            "max     20.00000     25.00000    50.000000   45.000000    60.000000   \n",
            "\n",
            "       Declared_Value (PHP)  Shipping_Cost (PHP)  Duties_Taxes_Paid  \\\n",
            "count             20.000000            20.000000          20.000000   \n",
            "mean            9650.000000           920.000000          70.000000   \n",
            "std             8006.740581           428.092464          41.927255   \n",
            "min             1000.000000           200.000000           0.000000   \n",
            "25%             3500.000000           650.000000          50.000000   \n",
            "50%             8000.000000           900.000000          65.000000   \n",
            "75%            12750.000000          1200.000000         100.000000   \n",
            "max            30000.000000          1800.000000         150.000000   \n",
            "\n",
            "       Return_Reason  \n",
            "count            0.0  \n",
            "mean             NaN  \n",
            "std              NaN  \n",
            "min              NaN  \n",
            "25%              NaN  \n",
            "50%              NaN  \n",
            "75%              NaN  \n",
            "max              NaN   \n",
            "\n"
          ]
        }
      ]
    },
    {
      "cell_type": "markdown",
      "source": [
        "## Generating the Template"
      ],
      "metadata": {
        "id": "7J1vcAcp-LO_"
      },
      "id": "7J1vcAcp-LO_"
    },
    {
      "cell_type": "code",
      "execution_count": 17,
      "id": "eddf122d-9766-408c-88df-b84ef9a649cf",
      "metadata": {
        "id": "eddf122d-9766-408c-88df-b84ef9a649cf"
      },
      "outputs": [],
      "source": [
        "def generate_template(df,\n",
        "                       column_info,\n",
        "                       categorical_features,\n",
        "                       numerical_features,\n",
        "                       unique_values,\n",
        "                       numerical_stats):\n",
        "\n",
        "    # Construct a summary of the dataframe's structure\n",
        "    column_summary = \"Column Names and Data Types:\\n\"\n",
        "    for col, dtype in column_info.items():\n",
        "        column_summary += f\" - {col}: {dtype}\\n\"\n",
        "\n",
        "    # Unique values for categorical features\n",
        "    unique_values_str = \"Unique Values for Categorical Features:\\n\"\n",
        "    for col, uniques in unique_values.items():\n",
        "        unique_values_str += f\" - {col}: {uniques}\\n\"\n",
        "\n",
        "    # Descriptive statistics for numerical features\n",
        "    numerical_stats_str = \"Descriptive Statistics for Numerical Features:\\n\"\n",
        "    for col in numerical_features:\n",
        "        numerical_stats_str += f\" - {col}:\\n\"\n",
        "        for stat_name, value in numerical_stats[col].items():\n",
        "            numerical_stats_str += f\"   {stat_name}: {value}\\n\"\n",
        "\n",
        "\n",
        "    # Define the system prompt\n",
        "    system_prompt = \"\"\"You are an intelligent assistant that creates descriptive templates for transforming dataframe rows into coherent paragraphs.\n",
        "    Analyze the provided dataframe structure and generate a template sentence that includes placeholders for each column.\n",
        "    Ensure the template is contextually relevant and maintains grammatical correctness.\"\"\"\n",
        "\n",
        "    # Define the user prompt\n",
        "    user_prompt = f\"\"\"\n",
        "    Analyze the following dataframe structure and create a descriptive template with placeholders for each column.\n",
        "\n",
        "    <column_summary>\n",
        "    {column_summary}\n",
        "    </column_summary>\n",
        "\n",
        "    <unique_values>\n",
        "    {unique_values_str}\n",
        "    </unique_values>\n",
        "\n",
        "    <numerical_stats>\n",
        "    {numerical_stats_str}\n",
        "    </numerical_stats>\n",
        "\n",
        "    Use the exact column names from the column_summary in generating the variable names in the template,\n",
        "    as they will be populated with the actual values in the dataset.\n",
        "\n",
        "    Example Template about a Spotify dataset:\n",
        "    \"{{artist}} gained {{streams}} streams in the song '{{song}}' that was a hit in {{date}}.\"\n",
        "\n",
        "\n",
        "    Output only the template without any explanation or introduction.\n",
        "    The template's variables will be dynamically replaced so make sure they're formatted properly.\"\"\"\n",
        "\n",
        "\n",
        "    # Generate the template (with retries)\n",
        "    retries = 3\n",
        "    for attempt in range(retries):\n",
        "        try:\n",
        "            response = openai.ChatCompletion.create(\n",
        "                model=\"gpt-4o-mini\",\n",
        "                temperature=0.3,\n",
        "                max_tokens=1024,\n",
        "                messages=[\n",
        "                    {\"role\": \"system\", \"content\": system_prompt},\n",
        "                    {\"role\": \"user\", \"content\": user_prompt}\n",
        "                ]\n",
        "            )\n",
        "            template = response['choices'][0]['message']['content'].strip()\n",
        "            return template\n",
        "        except Exception as e:\n",
        "            print(f\"Error generating template (Attempt {attempt + 1}/{retries}): {e}\")\n",
        "            time.sleep(2)  # Wait before retrying\n",
        "\n",
        "    return None\n",
        "\n"
      ]
    },
    {
      "cell_type": "code",
      "execution_count": 18,
      "id": "f8a0fd91-80de-4e08-8f86-44325a8accd3",
      "metadata": {
        "id": "f8a0fd91-80de-4e08-8f86-44325a8accd3",
        "colab": {
          "base_uri": "https://localhost:8080/"
        },
        "outputId": "509f4b6a-dde1-41a6-84c4-95f61cc5bef8"
      },
      "outputs": [
        {
          "output_type": "stream",
          "name": "stdout",
          "text": [
            "\"The parcel with ID {Parcel_ID}, weighing {Weight (kg)} kg and measuring {Length (cm)} cm in length, {Width (cm)} cm in width, and {Height (cm)} cm in height, is categorized as a {Shipping_Type} {Parcel_Type}. It contains {Contents_Description} and is packaged in a {Packaging_Type}. The declared value of this parcel is {Declared_Value (PHP)} PHP. It was sent by {Sender_Name} from {Sender_Address}, who can be contacted at {Sender_Contact} or via email at {Sender_Email}. The parcel is addressed to {Receiver_Name} at {Receiver_Address}, with the receiver's contact being {Receiver_Contact} and email {Receiver_Email}. The tracking number for this shipment is {Tracking_Number}, which was picked up on {Pickup_Date_Time} and is estimated to be delivered by {Estimated_Delivery_Date}. The actual delivery date was {Actual_Delivery_Date}, and the delivery status is currently {Delivery_Status}. The parcel is located at {Current_Location} and is being delivered via {Delivery_Method} by {Shipping_Carrier}. The shipping cost incurred is {Shipping_Cost (PHP)} PHP, and the shipping method used is {Shipping_Method}. For tracking, visit {Tracking_URL}. The customs declaration number is {Customs_Declaration}, and the country of origin is {Country_of_Origin}. Special handling instructions include: {Special_Handling_Instructions}. The insurance status for this parcel is {Insurance_Status}, and it was affected by {Weather_Condition} weather and {Traffic_Condition} traffic conditions. Packaging recommendations suggest: {Packaging_Recommendations}. The delivery priority is set to {Delivery_Priority}, and there is currently {Return_Status} for returns, with a return reason of {Return_Reason}.\"\n"
          ]
        }
      ],
      "source": [
        "# Generate the template\n",
        "template = generate_template(df,\n",
        "                             column_info,\n",
        "                             categorical_features,\n",
        "                             numerical_features,\n",
        "                             unique_values,\n",
        "                             numerical_stats)\n",
        "print(template)"
      ]
    },
    {
      "cell_type": "markdown",
      "source": [
        "## Populating the Template with Actual Values"
      ],
      "metadata": {
        "id": "VWPq3mcY-r40"
      },
      "id": "VWPq3mcY-r40"
    },
    {
      "cell_type": "code",
      "execution_count": 21,
      "id": "258e73ea-3500-49bb-9820-20637375dd55",
      "metadata": {
        "id": "258e73ea-3500-49bb-9820-20637375dd55"
      },
      "outputs": [],
      "source": [
        "def populate_template(template, row):\n",
        "\n",
        "    # Convert row to dictionary and replace NaN with 'N/A'\n",
        "  row_dict = row.to_dict()\n",
        "  for key, value in row_dict.items():\n",
        "    if pd.isna(value):\n",
        "      row_dict[key] = 'N/A'\n",
        "\n",
        "\n",
        "    # Generate the populated template per row\n",
        "  paragraph = template.format(**row_dict)\n",
        "\n",
        "  return paragraph"
      ]
    },
    {
      "cell_type": "code",
      "source": [
        "# Apply the populate_template function to each row in the dataframe\n",
        "df['paragraph'] = df.apply(lambda row: populate_template(template, row), axis=1)\n"
      ],
      "metadata": {
        "id": "rIhyXGSD_Ke4"
      },
      "id": "rIhyXGSD_Ke4",
      "execution_count": 22,
      "outputs": []
    },
    {
      "cell_type": "code",
      "source": [
        "df['paragraph'][0]"
      ],
      "metadata": {
        "colab": {
          "base_uri": "https://localhost:8080/",
          "height": 165
        },
        "id": "n_k34dqpOkmk",
        "outputId": "3b8d5db4-f455-49df-b6e4-299bf69c5021"
      },
      "id": "n_k34dqpOkmk",
      "execution_count": 23,
      "outputs": [
        {
          "output_type": "execute_result",
          "data": {
            "text/plain": [
              "'\"The parcel with ID 1, weighing 12 kg and measuring 30 cm in length, 20 cm in width, and 25 cm in height, is categorized as a Standard Box. It contains Furniture and is packaged in a Cardboard. The declared value of this parcel is 15000 PHP. It was sent by Juan Dela Cruz from 123 Rizal St, Makati, who can be contacted at +63 917 123 4567 or via email at juandelacruz@email.com. The parcel is addressed to Maria Santos at 456 Quezon Ave, Manila, with the receiver\\'s contact being +63 918 234 5678 and email mariasantos@email.com. The tracking number for this shipment is TRACK123456, which was picked up on 2024-11-01 09:00 and is estimated to be delivered by 2024-11-05. The actual delivery date was 2024-11-04, and the delivery status is currently Delivered. The parcel is located at Makati and is being delivered via Air by J&T Express. The shipping cost incurred is 850 PHP, and the shipping method used is Ground. For tracking, visit https://tracking.url/123456. The customs declaration number is CDN987654, and the country of origin is Philippines. Special handling instructions include: Handle with care. The insurance status for this parcel is Insured, and it was affected by Rainy weather and Moderate traffic conditions. Packaging recommendations suggest: Use waterproof packaging, reinforce box for heavy rain. The delivery priority is set to High, and there is currently No for returns, with a return reason of N/A.\"'"
            ],
            "application/vnd.google.colaboratory.intrinsic+json": {
              "type": "string"
            }
          },
          "metadata": {},
          "execution_count": 23
        }
      ]
    },
    {
      "cell_type": "markdown",
      "source": [
        "## Saving the Populated Templates (Natural Language Texts)"
      ],
      "metadata": {
        "id": "bDO2V_0P_So1"
      },
      "id": "bDO2V_0P_So1"
    },
    {
      "cell_type": "code",
      "execution_count": 24,
      "id": "0b26a4d3-b3d9-448b-ae5e-f2c8960718cd",
      "metadata": {
        "id": "0b26a4d3-b3d9-448b-ae5e-f2c8960718cd"
      },
      "outputs": [],
      "source": [
        "def save_content_to_txt(paragraphs, txt_filename):\n",
        "    try:\n",
        "        with open(txt_filename, 'w', encoding='utf-8') as file:\n",
        "\n",
        "            for para in paragraphs:\n",
        "                file.write(para + '\\n\\n')  # Double newline for separation\n",
        "\n",
        "        print(f\"All content has been saved as '{txt_filename}'.\\n\")\n",
        "    except Exception as e:\n",
        "        print(f\"Error saving content to text file: {e}\")\n",
        "\n"
      ]
    },
    {
      "cell_type": "code",
      "execution_count": 25,
      "id": "cb501277-4548-4f79-8b1e-fedafcff856f",
      "metadata": {
        "id": "cb501277-4548-4f79-8b1e-fedafcff856f"
      },
      "outputs": [],
      "source": [
        "def save_content_to_pdf(paragraphs, pdf_filename):\n",
        "    try:\n",
        "        pdf = FPDF()\n",
        "        pdf.add_page()\n",
        "        pdf.set_auto_page_break(auto=True, margin=15)\n",
        "        pdf.set_font(\"Arial\", size=12)\n",
        "\n",
        "        # Add each paragraph\n",
        "        for para in paragraphs:\n",
        "            pdf.multi_cell(0, 10, para)\n",
        "            pdf.ln()  # Add a line break between paragraphs\n",
        "\n",
        "        pdf.output(pdf_filename)\n",
        "        print(f\"All content has been saved as '{pdf_filename}'.\\n\")\n",
        "    except Exception as e:\n",
        "        print(f\"Error saving content to PDF: {e}\")"
      ]
    },
    {
      "cell_type": "code",
      "execution_count": 26,
      "id": "9ee0ce02-95de-4634-bdb3-63e285b9031a",
      "metadata": {
        "id": "9ee0ce02-95de-4634-bdb3-63e285b9031a",
        "colab": {
          "base_uri": "https://localhost:8080/"
        },
        "outputId": "7fd07653-e73f-4cb6-c696-d3935e8feab0"
      },
      "outputs": [
        {
          "output_type": "stream",
          "name": "stdout",
          "text": [
            "All content has been saved as 'nlg.txt'.\n",
            "\n",
            "All content has been saved as 'nlg.pdf'.\n",
            "\n"
          ]
        }
      ],
      "source": [
        "# Save the paragraphs to both text and PDF files\n",
        "save_content_to_txt(df['paragraph'].to_list(),\n",
        "                    txt_filename='nlg.txt')\n",
        "save_content_to_pdf(df['paragraph'].to_list(),\n",
        "                    pdf_filename='nlg.pdf')\n"
      ]
    }
  ],
  "metadata": {
    "kernelspec": {
      "display_name": "attic-proposals",
      "language": "python",
      "name": "attic-proposals"
    },
    "language_info": {
      "codemirror_mode": {
        "name": "ipython",
        "version": 3
      },
      "file_extension": ".py",
      "mimetype": "text/x-python",
      "name": "python",
      "nbconvert_exporter": "python",
      "pygments_lexer": "ipython3",
      "version": "3.11.0"
    },
    "colab": {
      "provenance": []
    }
  },
  "nbformat": 4,
  "nbformat_minor": 5
}